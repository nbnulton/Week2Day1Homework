{
 "cells": [
  {
   "cell_type": "markdown",
   "metadata": {},
   "source": [
    "# Week 2 - Monday Lesson (variable assignment, loops, lists)"
   ]
  },
  {
   "cell_type": "markdown",
   "metadata": {},
   "source": [
    "## Tasks Today:\n",
    "\n",
    "1) Int & Float assignments <br>\n",
    " &nbsp;&nbsp;&nbsp;&nbsp; a) Assigning int <br>\n",
    " &nbsp;&nbsp;&nbsp;&nbsp; b) Assigning float <br>\n",
    " &nbsp;&nbsp;&nbsp;&nbsp; c) Performing Calculations on ints and floats <br>\n",
    " &nbsp;&nbsp;&nbsp;&nbsp;&nbsp;&nbsp;&nbsp;&nbsp; - Addition <br>\n",
    " &nbsp;&nbsp;&nbsp;&nbsp;&nbsp;&nbsp;&nbsp;&nbsp; - Subtraction <br>\n",
    " &nbsp;&nbsp;&nbsp;&nbsp;&nbsp;&nbsp;&nbsp;&nbsp; - Multiplication <br>\n",
    " &nbsp;&nbsp;&nbsp;&nbsp;&nbsp;&nbsp;&nbsp;&nbsp; - Division <br>\n",
    " &nbsp;&nbsp;&nbsp;&nbsp;&nbsp;&nbsp;&nbsp;&nbsp; - Floor Division <br>\n",
    " &nbsp;&nbsp;&nbsp;&nbsp;&nbsp;&nbsp;&nbsp;&nbsp; - Modulo <br>\n",
    " &nbsp;&nbsp;&nbsp;&nbsp;&nbsp;&nbsp;&nbsp;&nbsp; - Exponential <br>\n",
    "2) String Input-Output <br>\n",
    " &nbsp;&nbsp;&nbsp;&nbsp; a) String Assignment <br>\n",
    " &nbsp;&nbsp;&nbsp;&nbsp; b) print() <br>\n",
    " &nbsp;&nbsp;&nbsp;&nbsp; c) String Concatenation <br>\n",
    " &nbsp;&nbsp;&nbsp;&nbsp; d) Type Conversion <br>\n",
    " &nbsp;&nbsp;&nbsp;&nbsp; e) input() <br>\n",
    " &nbsp;&nbsp;&nbsp;&nbsp; f) format() <br>\n",
    " &nbsp;&nbsp;&nbsp;&nbsp; g) Old Way (python 2) <br>\n",
    "3) <b>In-Class Exercise #1</b> <br>\n",
    "4) If Statements <br>\n",
    " &nbsp;&nbsp;&nbsp;&nbsp; a) 'is' keyword <br>\n",
    " &nbsp;&nbsp;&nbsp;&nbsp; b) 'in' keyword <br>\n",
    " &nbsp;&nbsp;&nbsp;&nbsp; c) 'not in' keyword <br>\n",
    "5) <b>In-Class Exercise #2</b> <br>\n",
    "6) Elif Statements <br>\n",
    "7) Else Statements <br>\n",
    "8) <b>In-Class Exercise #3</b> <br>\n",
    "9) For Loops <br>\n",
    " &nbsp;&nbsp;&nbsp;&nbsp; a) Using 'in' keyword <br>\n",
    " &nbsp;&nbsp;&nbsp;&nbsp; b) Continue Statement <br>\n",
    " &nbsp;&nbsp;&nbsp;&nbsp; c) Break Statement <br>\n",
    " &nbsp;&nbsp;&nbsp;&nbsp; d) Pass Statement <br>\n",
    " &nbsp;&nbsp;&nbsp;&nbsp; e) Double For Loops <br>\n",
    "10) While Loops <br>\n",
    " &nbsp;&nbsp;&nbsp;&nbsp; a) Looping 'While True' <br>\n",
    " &nbsp;&nbsp;&nbsp;&nbsp; b) While and For Loops Used Together <br>\n",
    "11) Built-In Functions <br>\n",
    " &nbsp;&nbsp;&nbsp;&nbsp; a) range() <br>\n",
    " &nbsp;&nbsp;&nbsp;&nbsp; b) len() <br>\n",
    " &nbsp;&nbsp;&nbsp;&nbsp; c) help() <br>\n",
    " &nbsp;&nbsp;&nbsp;&nbsp; d) isinstance() <br>\n",
    " &nbsp;&nbsp;&nbsp;&nbsp; e) abs() <br>\n",
    "12) Try and Except <br>\n",
    "13) Lists <br>\n",
    " &nbsp;&nbsp;&nbsp;&nbsp; a) Declaring Lists <br>\n",
    " &nbsp;&nbsp;&nbsp;&nbsp; b) Indexing a List <br>\n",
    " &nbsp;&nbsp;&nbsp;&nbsp; c) .append() <br>\n",
    " &nbsp;&nbsp;&nbsp;&nbsp; d) .insert() <br>\n",
    " &nbsp;&nbsp;&nbsp;&nbsp; e) .pop() <br>\n",
    " &nbsp;&nbsp;&nbsp;&nbsp; f) .remove() <br>\n",
    " &nbsp;&nbsp;&nbsp;&nbsp; g) del() <br>\n",
    " &nbsp;&nbsp;&nbsp;&nbsp; h) Concatenating Two Lists <br>\n",
    " &nbsp;&nbsp;&nbsp;&nbsp; i) Lists Within Lists <br>\n",
    " &nbsp;&nbsp;&nbsp;&nbsp; j) Looping Through Lists <br>"
   ]
  },
  {
   "cell_type": "markdown",
   "metadata": {},
   "source": [
    "### Int & Float Assignments"
   ]
  },
  {
   "cell_type": "markdown",
   "metadata": {},
   "source": [
    "##### Assigning int"
   ]
  },
  {
   "cell_type": "code",
   "execution_count": 5,
   "metadata": {},
   "outputs": [
    {
     "name": "stdout",
     "output_type": "stream",
     "text": [
      "6\n"
     ]
    }
   ],
   "source": [
    "number = 6\n",
    "print(number)"
   ]
  },
  {
   "cell_type": "markdown",
   "metadata": {},
   "source": [
    "##### Assinging float"
   ]
  },
  {
   "cell_type": "code",
   "execution_count": 7,
   "metadata": {},
   "outputs": [
    {
     "name": "stdout",
     "output_type": "stream",
     "text": [
      "2.3\n"
     ]
    }
   ],
   "source": [
    "my_float = 2.3\n",
    "print(2.3)"
   ]
  },
  {
   "cell_type": "markdown",
   "metadata": {},
   "source": [
    "#### Performing Calculations on ints and floats"
   ]
  },
  {
   "cell_type": "markdown",
   "metadata": {},
   "source": [
    "##### Addition"
   ]
  },
  {
   "cell_type": "code",
   "execution_count": 11,
   "metadata": {},
   "outputs": [
    {
     "name": "stdout",
     "output_type": "stream",
     "text": [
      "7.7\n",
      "9.7\n"
     ]
    }
   ],
   "source": [
    "num1 = 2\n",
    "num2 = 5.7\n",
    "\n",
    "result = num1 + num2\n",
    "print(result)\n",
    "\n",
    "result += 2\n",
    "print(result)"
   ]
  },
  {
   "cell_type": "markdown",
   "metadata": {},
   "source": [
    "##### Subtraction"
   ]
  },
  {
   "cell_type": "code",
   "execution_count": 15,
   "metadata": {},
   "outputs": [
    {
     "name": "stdout",
     "output_type": "stream",
     "text": [
      "3.7\n",
      "1.7000000000000002\n"
     ]
    }
   ],
   "source": [
    "result_diff = num2 - num1\n",
    "print(result_diff)\n",
    "\n",
    "result_diff -= 2\n",
    "print(result_diff)"
   ]
  },
  {
   "cell_type": "markdown",
   "metadata": {},
   "source": [
    "##### Multiplication"
   ]
  },
  {
   "cell_type": "code",
   "execution_count": 18,
   "metadata": {},
   "outputs": [
    {
     "name": "stdout",
     "output_type": "stream",
     "text": [
      "30\n",
      "60\n"
     ]
    }
   ],
   "source": [
    "num3 = 3\n",
    "num4 = 10\n",
    "\n",
    "result_prod = num3 * num4\n",
    "print(result_prod)\n",
    "\n",
    "result_prod *= 2\n",
    "print(result_prod)"
   ]
  },
  {
   "cell_type": "markdown",
   "metadata": {},
   "source": [
    "##### Division"
   ]
  },
  {
   "cell_type": "code",
   "execution_count": 20,
   "metadata": {},
   "outputs": [
    {
     "name": "stdout",
     "output_type": "stream",
     "text": [
      "2.0\n"
     ]
    }
   ],
   "source": [
    "result_div =  4 / 2\n",
    "print(result_div)"
   ]
  },
  {
   "cell_type": "markdown",
   "metadata": {},
   "source": [
    "##### Floor Division"
   ]
  },
  {
   "cell_type": "code",
   "execution_count": 22,
   "metadata": {},
   "outputs": [
    {
     "name": "stdout",
     "output_type": "stream",
     "text": [
      "2\n"
     ]
    }
   ],
   "source": [
    "result_floor = 5 // 2\n",
    "print(result_floor)\n",
    "\n",
    "my_list=[1,2,3,4,5]\n",
    "middle_index = len(my_list)//2"
   ]
  },
  {
   "cell_type": "markdown",
   "metadata": {},
   "source": [
    "##### Modulo"
   ]
  },
  {
   "cell_type": "code",
   "execution_count": 23,
   "metadata": {},
   "outputs": [
    {
     "name": "stdout",
     "output_type": "stream",
     "text": [
      "1\n"
     ]
    }
   ],
   "source": [
    "result_mod = 5 % 2\n",
    "print(result_mod)\n",
    "\n",
    "num = 7\n",
    "if num % 2 == 0:\n",
    "    print(\"even\")\n",
    "else:\n",
    "    print(\"odd\")"
   ]
  },
  {
   "cell_type": "markdown",
   "metadata": {},
   "source": [
    "##### Exponential"
   ]
  },
  {
   "cell_type": "code",
   "execution_count": 25,
   "metadata": {},
   "outputs": [
    {
     "ename": "SyntaxError",
     "evalue": "cannot assign to operator (<ipython-input-25-1b21c09ee505>, line 5)",
     "output_type": "error",
     "traceback": [
      "\u001b[1;36m  File \u001b[1;32m\"<ipython-input-25-1b21c09ee505>\"\u001b[1;36m, line \u001b[1;32m5\u001b[0m\n\u001b[1;33m    x**2 = x\u001b[0m\n\u001b[1;37m    ^\u001b[0m\n\u001b[1;31mSyntaxError\u001b[0m\u001b[1;31m:\u001b[0m cannot assign to operator\n"
     ]
    }
   ],
   "source": [
    "square = 5 ** 2\n",
    "# 5^2\n",
    "print(square)\n",
    "x = 5\n",
    "x**2 = x\n",
    "print(x)"
   ]
  },
  {
   "cell_type": "markdown",
   "metadata": {},
   "source": [
    "### String Input-Output"
   ]
  },
  {
   "cell_type": "markdown",
   "metadata": {},
   "source": [
    "##### String Assignment"
   ]
  },
  {
   "cell_type": "code",
   "execution_count": 28,
   "metadata": {
    "scrolled": false
   },
   "outputs": [
    {
     "name": "stdout",
     "output_type": "stream",
     "text": [
      "Kevin\n",
      "kevin's\n",
      "he said \"hello\"\n",
      "he said \"what's up?\"\n"
     ]
    }
   ],
   "source": [
    "name = \"Kevin\"\n",
    "name = 'Kevin'\n",
    "print(name)\n",
    "\n",
    "word = \"kevin's\"\n",
    "print(word)\n",
    "\n",
    "word = 'he said \"hello\"'\n",
    "print(word)\n",
    "\n",
    "word = 'he said \"what\\'s up?\"'\n",
    "print(word)"
   ]
  },
  {
   "cell_type": "markdown",
   "metadata": {},
   "source": [
    "##### print() <br>\n",
    "<p>Don't forget about end=' '</p>"
   ]
  },
  {
   "cell_type": "code",
   "execution_count": 34,
   "metadata": {},
   "outputs": [
    {
     "name": "stdout",
     "output_type": "stream",
     "text": [
      "this is my first name: Kevin \n",
      "thanks\n",
      "hello\n",
      "hello\n",
      "hello\n",
      "no spacesno spacesno spacesno spacesspaces spaces Welcome to the partyThanks for coming\n",
      "None\n"
     ]
    }
   ],
   "source": [
    "name = \"Kevin\"\n",
    "print(\"this is my first name:\", name,\"\\nthanks\")\n",
    "print(\"hello\")\n",
    "#Both the same\n",
    "print(\"hello\")\n",
    "print(\"hello\", end=\"\\n\")\n",
    "\n",
    "print(\"no spaces\", end=\"\")\n",
    "print(\"no spaces\", end=\"\")\n",
    "print(\"no spaces\", end=\"\")\n",
    "print(\"no spaces\", end=\"\")\n",
    "\n",
    "print(\"spaces\", end=\" \")\n",
    "print(\"spaces\", end=\" \")\n",
    "\n",
    "print(\"Welcome to the party\", end=\"Thanks for coming\")\n",
    "print(print())"
   ]
  },
  {
   "cell_type": "markdown",
   "metadata": {},
   "source": [
    "##### String Concatenation"
   ]
  },
  {
   "cell_type": "code",
   "execution_count": 38,
   "metadata": {},
   "outputs": [
    {
     "name": "stdout",
     "output_type": "stream",
     "text": [
      "Mark Gerlach\n",
      "a\n"
     ]
    },
    {
     "ename": "TypeError",
     "evalue": "'str' object does not support item assignment",
     "output_type": "error",
     "traceback": [
      "\u001b[1;31m---------------------------------------------------------------------------\u001b[0m",
      "\u001b[1;31mTypeError\u001b[0m                                 Traceback (most recent call last)",
      "\u001b[1;32m<ipython-input-38-ebb3edd412da>\u001b[0m in \u001b[0;36m<module>\u001b[1;34m\u001b[0m\n\u001b[0;32m      5\u001b[0m \u001b[1;33m\u001b[0m\u001b[0m\n\u001b[0;32m      6\u001b[0m \u001b[0mprint\u001b[0m\u001b[1;33m(\u001b[0m\u001b[0mfirst\u001b[0m\u001b[1;33m[\u001b[0m\u001b[1;36m1\u001b[0m\u001b[1;33m]\u001b[0m\u001b[1;33m)\u001b[0m\u001b[1;33m\u001b[0m\u001b[1;33m\u001b[0m\u001b[0m\n\u001b[1;32m----> 7\u001b[1;33m \u001b[0mfirst\u001b[0m\u001b[1;33m[\u001b[0m\u001b[1;36m1\u001b[0m\u001b[1;33m]\u001b[0m\u001b[1;33m=\u001b[0m\u001b[1;34m\"g\"\u001b[0m\u001b[1;33m\u001b[0m\u001b[1;33m\u001b[0m\u001b[0m\n\u001b[0m",
      "\u001b[1;31mTypeError\u001b[0m: 'str' object does not support item assignment"
     ]
    }
   ],
   "source": [
    "first = \"Mark\"\n",
    "last = \"Gerlach\"\n",
    "full_name = first + \" \" + last\n",
    "print(full_name)\n",
    "\n",
    "print(first[1])\n",
    "first[1]=\"g\" #can't assign because already assigned, strings are immutable"
   ]
  },
  {
   "cell_type": "markdown",
   "metadata": {},
   "source": [
    "##### Type Conversion"
   ]
  },
  {
   "cell_type": "code",
   "execution_count": 49,
   "metadata": {},
   "outputs": [
    {
     "name": "stdout",
     "output_type": "stream",
     "text": [
      "<class 'str'>\n",
      "<class 'int'>\n"
     ]
    },
    {
     "data": {
      "text/plain": [
       "10"
      ]
     },
     "execution_count": 49,
     "metadata": {},
     "output_type": "execute_result"
    }
   ],
   "source": [
    "num = \"32\"\n",
    "print(type(num)) #type is int\n",
    "\n",
    "change_type = int(num) #type changes to string\n",
    "print(type(change_type))\n",
    "\n",
    "num1 = \"4\"\n",
    "num2 = 6\n",
    "\n",
    "int(num1) + num2\n",
    "\n",
    "# dict(), list(), tuple(), float(), int(), str(), set()"
   ]
  },
  {
   "cell_type": "markdown",
   "metadata": {},
   "source": [
    "##### input()"
   ]
  },
  {
   "cell_type": "code",
   "execution_count": 51,
   "metadata": {},
   "outputs": [
    {
     "name": "stdout",
     "output_type": "stream",
     "text": [
      "This is my question? hey\n"
     ]
    },
    {
     "data": {
      "text/plain": [
       "'hey'"
      ]
     },
     "execution_count": 51,
     "metadata": {},
     "output_type": "execute_result"
    }
   ],
   "source": [
    "input(\"This is my question? \")\n",
    "\n",
    "age = input(\"What is your age? \")\n",
    "age = int(age)\n",
    "print(type(age))\n",
    "print(\"Your age is\", age)"
   ]
  },
  {
   "cell_type": "markdown",
   "metadata": {},
   "source": [
    "##### format()"
   ]
  },
  {
   "cell_type": "code",
   "execution_count": 58,
   "metadata": {},
   "outputs": [
    {
     "name": "stdout",
     "output_type": "stream",
     "text": [
      "What is your age? 25\n",
      "You are 25 years old and you are getting wiser!\n",
      "You are 25 years old and you are getting wiser!\n"
     ]
    }
   ],
   "source": [
    "age = input(\"What is your age? \")\n",
    "result_string = 'You are {} years old and you are getting wiser!'.format(age)\n",
    "print(result_string)\n",
    "\n",
    "# f-string!!!\n",
    "result_string = f'You are {age} years old and you are getting wiser!'\n",
    "print(result_string)"
   ]
  },
  {
   "cell_type": "markdown",
   "metadata": {},
   "source": [
    "##### Old Way (python 2)"
   ]
  },
  {
   "cell_type": "code",
   "execution_count": 59,
   "metadata": {},
   "outputs": [
    {
     "name": "stdout",
     "output_type": "stream",
     "text": [
      "You are 35 and you look great for your age!\n"
     ]
    }
   ],
   "source": [
    "age = 35\n",
    "result_str = 'You are %s and you look great for your age!' %age\n",
    "print(result_str)"
   ]
  },
  {
   "cell_type": "markdown",
   "metadata": {},
   "source": [
    "# In-Class Exercise 1 <br>\n",
    "<p>Create a format statement that asks for color, year, make, model and prints out the results</p>"
   ]
  },
  {
   "cell_type": "code",
   "execution_count": 62,
   "metadata": {},
   "outputs": [
    {
     "name": "stdout",
     "output_type": "stream",
     "text": [
      "What color is your carblack\n",
      "What year is your car?2011\n",
      "What make is your car?Subaru\n",
      "What model is your car?WRX\n",
      "You drive a 2011 Subaru WRX that is painted black.\n"
     ]
    }
   ],
   "source": [
    "color = input(\"What color is your car\")\n",
    "year = input(\"What year is your car?\")\n",
    "make = input(\"What make is your car?\")\n",
    "model = input(\"What model is your car?\")\n",
    "result_str = f\"You drive a {year} {make} {model} that is painted {color}.\"\n",
    "print(result_str)"
   ]
  },
  {
   "cell_type": "markdown",
   "metadata": {},
   "source": [
    "### If Statements"
   ]
  },
  {
   "cell_type": "code",
   "execution_count": 73,
   "metadata": {},
   "outputs": [
    {
     "name": "stdout",
     "output_type": "stream",
     "text": [
      "not equal\n",
      "num1 is less\n",
      "nothing\n",
      "something\n",
      "0\n",
      "10\n"
     ]
    }
   ],
   "source": [
    "# True / False\n",
    "# boolean evaluates to True or False\n",
    "# Operators\n",
    "# greater than >\n",
    "# less than <\n",
    "# Equal ==\n",
    "# greater or equal >=\n",
    "# less than or equal <=\n",
    "# not equal; != (or not ==)\n",
    "\n",
    "num1 = 5\n",
    "num2 = 10\n",
    "if num1 == num2: #can also do !=   #can also do not ==\n",
    "    #code block\n",
    "    print(\"equal\")\n",
    "else:\n",
    "    print(\"not equal\")\n",
    "    \n",
    "if num1 > num2:\n",
    "    print(\"num1 is greater\")\n",
    "elif num1 < num2:\n",
    "    print(\"num1 is less\")\n",
    "else:\n",
    "    print(\"num1 and num2 are equal\")\n",
    "    \n",
    "# and & or\n",
    "\n",
    "# if True and False\n",
    "# bot hsides of the and must return True to be True\n",
    "if num1 == 5 and num2 > 12:\n",
    "    print(\"something\")\n",
    "else:\n",
    "    print(\"nothing\")\n",
    "\n",
    "#      True or False --> True\n",
    "if num1 == 5 or num2 > 12:\n",
    "    print(\"something\")\n",
    "else:\n",
    "    print(\"nothing\")\n",
    "\n",
    "    \n",
    "    \n",
    "#Ternary Operator... this is how you write an if statement inline (must have an ELSE)\n",
    "# [value if true] [if] [boolean] [else] [value if false]\n",
    "name = \"john\"\n",
    "my_num = 5 if name ==\"steve\" else 0\n",
    "print(my_num)\n",
    "\n",
    "my_num = 5 if name ==\"steve\" else 10 if name==\"john\" else 0\n",
    "print(my_num)"
   ]
  },
  {
   "cell_type": "markdown",
   "metadata": {},
   "source": [
    "##### 'is' keyword"
   ]
  },
  {
   "cell_type": "code",
   "execution_count": 77,
   "metadata": {
    "scrolled": true
   },
   "outputs": [
    {
     "name": "stdout",
     "output_type": "stream",
     "text": [
      "y is None\n",
      "true\n",
      "false\n",
      "True\n",
      "True\n"
     ]
    }
   ],
   "source": [
    "#check if the two objects are the same... generally don't use is unless you are asking is None\n",
    "# IS is used for identity where as == is euqality, IS is pointing to a different point in memory resulting in False\n",
    "\n",
    "y = None\n",
    "if y is None:\n",
    "    print(\"y is None\")\n",
    "type(y)\n",
    "\n",
    "list1 = []\n",
    "list2 = []\n",
    "list3 = list1\n",
    "if list1 == list2:\n",
    "    print(\"true\")\n",
    "else:\n",
    "    print(\"false\")\n",
    "    \n",
    "if list1 is list2:\n",
    "    print(\"true\")\n",
    "else:\n",
    "    print(\"false\")\n",
    "    \n",
    "print(list1==list3)\n",
    "print(list1 is list3)"
   ]
  },
  {
   "cell_type": "markdown",
   "metadata": {},
   "source": [
    "##### 'in' keyword"
   ]
  },
  {
   "cell_type": "code",
   "execution_count": 78,
   "metadata": {},
   "outputs": [
    {
     "name": "stdout",
     "output_type": "stream",
     "text": [
      "The character who lost everything...\n"
     ]
    }
   ],
   "source": [
    "# Check if a character is in a name\n",
    "\n",
    "# Under the hood, using IN with a list or a string is actually looping\n",
    "\n",
    "char_name = \"Max Payne\"\n",
    "\n",
    "if \"Max\" in char_name:\n",
    "    print(\"The character who lost everything...\")\n",
    "    \n",
    "for letter in char_name:  # puts a loop in a loop, avoid, results in increased processing power\n",
    "    if letter == \"a\"\n",
    "        return True"
   ]
  },
  {
   "cell_type": "markdown",
   "metadata": {},
   "source": [
    "##### 'not in' keyword'"
   ]
  },
  {
   "cell_type": "code",
   "execution_count": 79,
   "metadata": {},
   "outputs": [
    {
     "name": "stdout",
     "output_type": "stream",
     "text": [
      "'a' is NOT in the name...!!!!\n"
     ]
    }
   ],
   "source": [
    "sega_char = \"Sonic\"\n",
    "if \"a\" not in sega_char:\n",
    "    print(\"'a' is NOT in the name...!!!!\")"
   ]
  },
  {
   "cell_type": "markdown",
   "metadata": {},
   "source": [
    "# In-Class Exercise 2 <br>\n",
    "<p>Ask user for input, check to see if the letter 'p' is in the input</p>"
   ]
  },
  {
   "cell_type": "code",
   "execution_count": 88,
   "metadata": {},
   "outputs": [
    {
     "name": "stdout",
     "output_type": "stream",
     "text": [
      "What is your name? Pat\n",
      "True\n"
     ]
    }
   ],
   "source": [
    "word = input(\"What is your name? \")\n",
    "if 'p' in word.lower():\n",
    "    print(True)\n",
    "else:\n",
    "    print(False)\n",
    "    \n",
    "\"p\" in input(\"What is your name? \").lower()"
   ]
  },
  {
   "cell_type": "markdown",
   "metadata": {},
   "source": [
    "## Using 'and'/'or' with If Statements"
   ]
  },
  {
   "cell_type": "code",
   "execution_count": null,
   "metadata": {},
   "outputs": [],
   "source": [
    "# SEE ABOVE"
   ]
  },
  {
   "cell_type": "markdown",
   "metadata": {},
   "source": [
    "### Elif Statements"
   ]
  },
  {
   "cell_type": "code",
   "execution_count": null,
   "metadata": {},
   "outputs": [],
   "source": [
    "# SEE ABOVE"
   ]
  },
  {
   "cell_type": "markdown",
   "metadata": {},
   "source": [
    "### Else Statements"
   ]
  },
  {
   "cell_type": "code",
   "execution_count": null,
   "metadata": {},
   "outputs": [],
   "source": [
    "# SEE ABOVE"
   ]
  },
  {
   "cell_type": "markdown",
   "metadata": {},
   "source": [
    "### For Loops"
   ]
  },
  {
   "cell_type": "code",
   "execution_count": 89,
   "metadata": {},
   "outputs": [
    {
     "name": "stdout",
     "output_type": "stream",
     "text": [
      "0\n",
      "1\n",
      "2\n",
      "3\n",
      "4\n",
      "5\n",
      "6\n",
      "7\n",
      "8\n",
      "9\n",
      "C\n",
      "h\n",
      "r\n",
      "i\n",
      "s\n",
      "t\n",
      "i\n",
      "n\n",
      "a\n"
     ]
    }
   ],
   "source": [
    "# for [placeholder] in [iterable]:\n",
    "for i in range(10):\n",
    "    print(i)    # prints numbers 1-9\n",
    "    \n",
    "name = \"Christina\"\n",
    "for letter in name:\n",
    "    print(letter)\n",
    "    "
   ]
  },
  {
   "cell_type": "markdown",
   "metadata": {},
   "source": [
    "##### Using 'in' keyword"
   ]
  },
  {
   "cell_type": "code",
   "execution_count": 99,
   "metadata": {},
   "outputs": [
    {
     "name": "stdout",
     "output_type": "stream",
     "text": [
      "Pizza\n",
      "Tacos\n",
      "Dimsum\n",
      "Sushi\n",
      "0\n",
      "pizza\n",
      "1\n",
      "tacos\n",
      "2\n",
      "dimsum\n",
      "3\n",
      "sushi\n",
      "(0, 'pizza')\n",
      "(1, 'tacos')\n",
      "(2, 'dimsum')\n",
      "(3, 'sushi')\n",
      "the food at 0 is pizza\n",
      "the food at 1 is tacos\n",
      "the food at 2 is dimsum\n",
      "the food at 3 is sushi\n"
     ]
    }
   ],
   "source": [
    "foods = [\"pizza\", \"tacos\", \"dimsum\", \"sushi\"]\n",
    "for food in foods:\n",
    "    print(food.title())\n",
    "    \n",
    "foods[2]\n",
    "\n",
    "list(range(len(foods)))    # gives list of indexes\n",
    "\n",
    "for index in range(len(foods)):\n",
    "    print(index)\n",
    "    print(foods[index])\n",
    "\n",
    "# access index and object is to use enumerate\n",
    "\n",
    "for tuple in enumerate(foods):\n",
    "    print(tuple)\n",
    "      \n",
    "for index, food in enumerate(foods):\n",
    "    print(f\"the food at {index} is {food}\")"
   ]
  },
  {
   "cell_type": "markdown",
   "metadata": {},
   "source": [
    "##### Continue Statement"
   ]
  },
  {
   "cell_type": "code",
   "execution_count": 100,
   "metadata": {},
   "outputs": [
    {
     "name": "stdout",
     "output_type": "stream",
     "text": [
      "0\n",
      "1\n",
      "2\n",
      "3\n",
      "4\n",
      "6\n",
      "7\n",
      "8\n",
      "9\n"
     ]
    }
   ],
   "source": [
    "# it will continue the next iteration...\n",
    "\n",
    "for i in range(10):\n",
    "    if i == 5:\n",
    "        continue\n",
    "    print(i)"
   ]
  },
  {
   "cell_type": "code",
   "execution_count": 81,
   "metadata": {},
   "outputs": [
    {
     "name": "stdout",
     "output_type": "stream",
     "text": [
      "0\n",
      "1\n",
      "2\n",
      "3\n",
      "4\n",
      "6\n",
      "7\n",
      "8\n",
      "9\n",
      "10\n",
      "11\n",
      "12\n",
      "13\n",
      "14\n",
      "15\n",
      "16\n",
      "17\n",
      "18\n",
      "19\n"
     ]
    }
   ],
   "source": []
  },
  {
   "cell_type": "markdown",
   "metadata": {},
   "source": [
    "##### Break Statement"
   ]
  },
  {
   "cell_type": "code",
   "execution_count": 102,
   "metadata": {},
   "outputs": [
    {
     "name": "stdout",
     "output_type": "stream",
     "text": [
      "0\n",
      "1\n",
      "2\n",
      "3\n",
      "4\n"
     ]
    }
   ],
   "source": [
    "for i in range(10):\n",
    "    if i == 5:\n",
    "        break\n",
    "    print(i)"
   ]
  },
  {
   "cell_type": "code",
   "execution_count": 82,
   "metadata": {},
   "outputs": [
    {
     "name": "stdout",
     "output_type": "stream",
     "text": [
      "0\n",
      "1\n",
      "2\n",
      "3\n",
      "4\n"
     ]
    }
   ],
   "source": []
  },
  {
   "cell_type": "markdown",
   "metadata": {},
   "source": [
    "##### Pass Statement"
   ]
  },
  {
   "cell_type": "code",
   "execution_count": 106,
   "metadata": {},
   "outputs": [
    {
     "name": "stdout",
     "output_type": "stream",
     "text": [
      "hello\n"
     ]
    }
   ],
   "source": [
    "for x in [1, 2, 3, 4]:\n",
    "    pass\n",
    "print(\"hello\")"
   ]
  },
  {
   "cell_type": "code",
   "execution_count": 88,
   "metadata": {},
   "outputs": [],
   "source": []
  },
  {
   "cell_type": "markdown",
   "metadata": {},
   "source": [
    "##### Double For Loops"
   ]
  },
  {
   "cell_type": "code",
   "execution_count": 108,
   "metadata": {},
   "outputs": [
    {
     "name": "stdout",
     "output_type": "stream",
     "text": [
      "i=0, j=0\n",
      "i=0, j=1\n",
      "i=0, j=2\n",
      "i=0, j=3\n",
      "i=0, j=4\n",
      "i=1, j=0\n",
      "i=1, j=1\n",
      "i=1, j=2\n",
      "i=1, j=3\n",
      "i=1, j=4\n",
      "i=2, j=0\n",
      "i=2, j=1\n",
      "i=2, j=2\n",
      "i=2, j=3\n",
      "i=2, j=4\n",
      "i=3, j=0\n",
      "i=3, j=1\n",
      "i=3, j=2\n",
      "i=3, j=3\n",
      "i=3, j=4\n",
      "i=4, j=0\n",
      "i=4, j=1\n",
      "i=4, j=2\n",
      "i=4, j=3\n",
      "i=4, j=4\n"
     ]
    }
   ],
   "source": [
    "for i in range(5):    #bad, don't do this, hit the print 25 times\n",
    "    for j in range(5):\n",
    "        print(f'i={i}, j={j}')"
   ]
  },
  {
   "cell_type": "markdown",
   "metadata": {},
   "source": [
    "### While Loops"
   ]
  },
  {
   "cell_type": "code",
   "execution_count": 112,
   "metadata": {},
   "outputs": [
    {
     "name": "stdout",
     "output_type": "stream",
     "text": [
      "0\n",
      "1\n",
      "2\n",
      "3\n",
      "4\n",
      "5\n",
      "6\n",
      "7\n",
      "8\n",
      "9\n",
      "What do you want to do? quit or continue?continue\n",
      "What do you want to do? quit or continue?quit\n",
      "I'll still run after quit\n"
     ]
    }
   ],
   "source": [
    "num = 0\n",
    "while num < 10:\n",
    "    print(num)    # keeps running\n",
    "    num += 1\n",
    "    \n",
    "game_over = False\n",
    "while not game_over:\n",
    "    user_input = input(\"What do you want to do? quit or continue?\")\n",
    "    if user_input.lower() == \"quit\":\n",
    "        game_over = True\n",
    "    else:\n",
    "        continue\n",
    "    print(\"I'll still run after quit\") # need to break loop\n"
   ]
  },
  {
   "cell_type": "markdown",
   "metadata": {},
   "source": [
    "##### Looping 'While True'"
   ]
  },
  {
   "cell_type": "code",
   "execution_count": 113,
   "metadata": {},
   "outputs": [
    {
     "name": "stdout",
     "output_type": "stream",
     "text": [
      "What do you want to do? quit or continuecontinue\n",
      "Will I print???\n",
      "What do you want to do? quit or continuecontinue\n",
      "Will I print???\n",
      "What do you want to do? quit or continuequit\n"
     ]
    }
   ],
   "source": [
    "while True:\n",
    "    user_input = input(\"What do you want to do? quit or continue \")\n",
    "    if user_input.lower() == \"quit\":\n",
    "        break\n",
    "    print(\"Will I print???\")\n",
    "                                # breaking out of while loop, nothing afterwards like above"
   ]
  },
  {
   "cell_type": "markdown",
   "metadata": {},
   "source": [
    "##### While & For Loops Used Together"
   ]
  },
  {
   "cell_type": "code",
   "execution_count": 114,
   "metadata": {},
   "outputs": [
    {
     "name": "stdout",
     "output_type": "stream",
     "text": [
      "While loop iteration:  0\n",
      "For Loop Iteration:  0\n",
      "For Loop Iteration:  1\n",
      "For Loop Iteration:  2\n",
      "For Loop Iteration:  3\n",
      "For Loop Iteration:  4\n",
      "While loop iteration:  1\n",
      "For Loop Iteration:  0\n",
      "For Loop Iteration:  1\n",
      "For Loop Iteration:  2\n",
      "For Loop Iteration:  3\n",
      "For Loop Iteration:  4\n",
      "While loop iteration:  2\n",
      "For Loop Iteration:  0\n",
      "For Loop Iteration:  1\n",
      "For Loop Iteration:  2\n",
      "For Loop Iteration:  3\n",
      "For Loop Iteration:  4\n",
      "While loop iteration:  3\n",
      "For Loop Iteration:  0\n",
      "For Loop Iteration:  1\n",
      "For Loop Iteration:  2\n",
      "For Loop Iteration:  3\n",
      "For Loop Iteration:  4\n",
      "While loop iteration:  4\n",
      "For Loop Iteration:  0\n",
      "For Loop Iteration:  1\n",
      "For Loop Iteration:  2\n",
      "For Loop Iteration:  3\n",
      "For Loop Iteration:  4\n"
     ]
    }
   ],
   "source": [
    "num = 0     # like a double for loop but using a while loop\n",
    "while num < 5:\n",
    "    print(\"While loop iteration: \",num)\n",
    "    for i in range(5):\n",
    "        print(\"For Loop Iteration: \", i)\n",
    "    num += 1"
   ]
  },
  {
   "cell_type": "markdown",
   "metadata": {},
   "source": [
    "### Built-In Functions"
   ]
  },
  {
   "cell_type": "markdown",
   "metadata": {},
   "source": [
    "##### range()"
   ]
  },
  {
   "cell_type": "code",
   "execution_count": 116,
   "metadata": {},
   "outputs": [
    {
     "data": {
      "text/plain": [
       "[5, 6, 7, 8, 9]"
      ]
     },
     "execution_count": 116,
     "metadata": {},
     "output_type": "execute_result"
    }
   ],
   "source": [
    "# start, stop, step\n",
    "list(range(5))   #start\n",
    "\n",
    "list(range(5,10))    #start stop\n",
    "\n",
    "list(range(5, 10, 2))    #start stop step\n",
    "\n",
    "list(range(10, 5, -1))    #negative steps"
   ]
  },
  {
   "cell_type": "markdown",
   "metadata": {},
   "source": [
    "##### len()"
   ]
  },
  {
   "cell_type": "code",
   "execution_count": 7,
   "metadata": {},
   "outputs": [],
   "source": [
    "len(\"hello\")\n",
    "\n",
    "len([1,2,3,4])"
   ]
  },
  {
   "cell_type": "markdown",
   "metadata": {},
   "source": [
    "##### help()"
   ]
  },
  {
   "cell_type": "code",
   "execution_count": 118,
   "metadata": {},
   "outputs": [
    {
     "name": "stdout",
     "output_type": "stream",
     "text": [
      "Help on built-in function len in module builtins:\n",
      "\n",
      "len(obj, /)\n",
      "    Return the number of items in a container.\n",
      "\n"
     ]
    },
    {
     "data": {
      "text/plain": [
       "['__abs__',\n",
       " '__add__',\n",
       " '__and__',\n",
       " '__bool__',\n",
       " '__ceil__',\n",
       " '__class__',\n",
       " '__delattr__',\n",
       " '__dir__',\n",
       " '__divmod__',\n",
       " '__doc__',\n",
       " '__eq__',\n",
       " '__float__',\n",
       " '__floor__',\n",
       " '__floordiv__',\n",
       " '__format__',\n",
       " '__ge__',\n",
       " '__getattribute__',\n",
       " '__getnewargs__',\n",
       " '__gt__',\n",
       " '__hash__',\n",
       " '__index__',\n",
       " '__init__',\n",
       " '__init_subclass__',\n",
       " '__int__',\n",
       " '__invert__',\n",
       " '__le__',\n",
       " '__lshift__',\n",
       " '__lt__',\n",
       " '__mod__',\n",
       " '__mul__',\n",
       " '__ne__',\n",
       " '__neg__',\n",
       " '__new__',\n",
       " '__or__',\n",
       " '__pos__',\n",
       " '__pow__',\n",
       " '__radd__',\n",
       " '__rand__',\n",
       " '__rdivmod__',\n",
       " '__reduce__',\n",
       " '__reduce_ex__',\n",
       " '__repr__',\n",
       " '__rfloordiv__',\n",
       " '__rlshift__',\n",
       " '__rmod__',\n",
       " '__rmul__',\n",
       " '__ror__',\n",
       " '__round__',\n",
       " '__rpow__',\n",
       " '__rrshift__',\n",
       " '__rshift__',\n",
       " '__rsub__',\n",
       " '__rtruediv__',\n",
       " '__rxor__',\n",
       " '__setattr__',\n",
       " '__sizeof__',\n",
       " '__str__',\n",
       " '__sub__',\n",
       " '__subclasshook__',\n",
       " '__truediv__',\n",
       " '__trunc__',\n",
       " '__xor__',\n",
       " 'as_integer_ratio',\n",
       " 'bit_length',\n",
       " 'conjugate',\n",
       " 'denominator',\n",
       " 'from_bytes',\n",
       " 'imag',\n",
       " 'numerator',\n",
       " 'real',\n",
       " 'to_bytes']"
      ]
     },
     "execution_count": 118,
     "metadata": {},
     "output_type": "execute_result"
    }
   ],
   "source": [
    "help(len) \n",
    "\n",
    "\n",
    "dir(int)    #gives attributes of whatever is in the parenthesis"
   ]
  },
  {
   "cell_type": "markdown",
   "metadata": {},
   "source": [
    "##### isinstance()"
   ]
  },
  {
   "cell_type": "code",
   "execution_count": 119,
   "metadata": {},
   "outputs": [
    {
     "name": "stdout",
     "output_type": "stream",
     "text": [
      "True\n",
      "False\n"
     ]
    }
   ],
   "source": [
    "# returns bool\n",
    "# isinstance(var, type)\n",
    "\n",
    "num = 3\n",
    "print(isinstance(num, int))\n",
    "print(isinstance(num, str))"
   ]
  },
  {
   "cell_type": "markdown",
   "metadata": {},
   "source": [
    "##### abs()"
   ]
  },
  {
   "cell_type": "code",
   "execution_count": 121,
   "metadata": {},
   "outputs": [
    {
     "name": "stdout",
     "output_type": "stream",
     "text": [
      "5\n",
      "5\n"
     ]
    }
   ],
   "source": [
    "# absolute value  | -5 | .. which measures the distance from Zero\n",
    "\n",
    "print(abs(-5))\n",
    "print(abs(5))\n"
   ]
  },
  {
   "cell_type": "markdown",
   "metadata": {},
   "source": [
    "### Try and Except"
   ]
  },
  {
   "cell_type": "code",
   "execution_count": 125,
   "metadata": {
    "scrolled": true
   },
   "outputs": [
    {
     "name": "stdout",
     "output_type": "stream",
     "text": [
      "Guess a Number: 1\n",
      "Your number is: 1\n",
      "0\n"
     ]
    }
   ],
   "source": [
    "# Chapter 10 - this is a way to handle an error -- only for unexpected error\n",
    "try:\n",
    "    number_test = 0\n",
    "    input_num = int(input(\"Guess a Number: \"))\n",
    "    if input_num != number_test:\n",
    "        input_num = input_num + number_test\n",
    "        print(f'Your number is: {input_num}')\n",
    "except:\n",
    "    print(\"That didn't work -- Make sure your Input is a number please!!!\")\n",
    "\n",
    "    \n",
    "def divid(num1, num2):\n",
    "    try:\n",
    "        print(num1/num2)\n",
    "    except ZeroDivisionError:    # specific error in Python\n",
    "        print(0)\n",
    "    except TypeError:            # another specific error, must match\n",
    "        print(\"Sorry I need numbers\")\n",
    "        \n",
    "divid(1,0)"
   ]
  },
  {
   "cell_type": "markdown",
   "metadata": {},
   "source": [
    "### Lists"
   ]
  },
  {
   "cell_type": "markdown",
   "metadata": {},
   "source": [
    "##### Declaring Lists"
   ]
  },
  {
   "cell_type": "code",
   "execution_count": 126,
   "metadata": {},
   "outputs": [
    {
     "name": "stdout",
     "output_type": "stream",
     "text": [
      "['Max', 'Cindy', 'Kathy', 'Brad']\n"
     ]
    }
   ],
   "source": [
    "names = [\"Max\", \"Cindy\", \"Kathy\", \"Brad\"]\n",
    "print(names)\n",
    "\n",
    "a_list = [1,2.5 [1,2,3], \"string\"]    # can use any data type together"
   ]
  },
  {
   "cell_type": "markdown",
   "metadata": {},
   "source": [
    "##### Indexing a List"
   ]
  },
  {
   "cell_type": "code",
   "execution_count": 169,
   "metadata": {},
   "outputs": [
    {
     "name": "stdout",
     "output_type": "stream",
     "text": [
      "Cindy\n",
      "Anu\n",
      "['Anu', 'Anu']\n",
      "['Max', 'Anu', 'Anu', 'Cindy', 'Kathy', 'Brad']\n",
      "['Max', 'Anu', 'Anu']\n",
      "['Anu', 'Anu', 'Cindy', 'Kathy', 'Brad']\n",
      "['Max', 'Anu', 'Kathy']\n",
      "['Brad', 'Kathy', 'Cindy', 'Anu', 'Anu', 'Max']\n",
      "racecar\n",
      "palindrome\n",
      "['Max', 'Anu', 'Anu', 'Cindy', 'Kathy', 'Brad']\n"
     ]
    }
   ],
   "source": [
    "names[1]\n",
    "\n",
    "print(names[-3])\n",
    "print(names[1])\n",
    "# list_name[index]\n",
    "\n",
    "# Slicing [start:end:step]\n",
    "print(\n",
    "    names[1:3]    # list slice\n",
    ")\n",
    "\n",
    "print(\n",
    "    names[:]\n",
    ")\n",
    "\n",
    "print(\n",
    "    names[:3]\n",
    ")\n",
    "\n",
    "print(\n",
    "    names[1:]\n",
    ")\n",
    "\n",
    "print(\n",
    "    names[::2]\n",
    ")\n",
    "\n",
    "print(\n",
    "    names[::-1]\n",
    ")\n",
    "\n",
    "# Slicing also works on strings\n",
    "\"Steve\"[::-1]\n",
    "\n",
    "print(\"racecar\"[::-1])\n",
    "\n",
    "my_string = \"racecar\"\n",
    "if my_string == my_string[::1]:\n",
    "    print(\"palindrome\")\n",
    "    \n",
    "print(\n",
    "    names[:]\n",
    ")"
   ]
  },
  {
   "cell_type": "markdown",
   "metadata": {},
   "source": [
    "##### .append()"
   ]
  },
  {
   "cell_type": "code",
   "execution_count": 134,
   "metadata": {},
   "outputs": [
    {
     "name": "stdout",
     "output_type": "stream",
     "text": [
      "['Max', 'Cindy', 'Kathy', 'Brad', 'Austin']\n"
     ]
    }
   ],
   "source": [
    "# Works in-place!\n",
    "names.append(\"Austin\")\n",
    "print(names)"
   ]
  },
  {
   "cell_type": "markdown",
   "metadata": {},
   "source": [
    "##### .insert()"
   ]
  },
  {
   "cell_type": "code",
   "execution_count": 138,
   "metadata": {},
   "outputs": [
    {
     "name": "stdout",
     "output_type": "stream",
     "text": [
      "['Max', 'Anu', 'Anu', 'Anu', 'Cindy', 'Kathy', 'Brad', 'Austin']\n"
     ]
    },
    {
     "data": {
      "text/plain": [
       "['Max', 'Anu', 'Natasha', 'Anu', 'Cindy', 'Kathy', 'Brad', 'Austin']"
      ]
     },
     "execution_count": 138,
     "metadata": {},
     "output_type": "execute_result"
    }
   ],
   "source": [
    "names.insert(1,\"Anu\")\n",
    "print(names)\n",
    "\n",
    "names[2]=\"Natasha\"\n",
    "names"
   ]
  },
  {
   "cell_type": "markdown",
   "metadata": {},
   "source": [
    "##### .pop()"
   ]
  },
  {
   "cell_type": "code",
   "execution_count": 140,
   "metadata": {},
   "outputs": [
    {
     "name": "stdout",
     "output_type": "stream",
     "text": [
      "D <class 'str'>\n"
     ]
    },
    {
     "data": {
      "text/plain": [
       "['A', 'B', 'C']"
      ]
     },
     "execution_count": 140,
     "metadata": {},
     "output_type": "execute_result"
    }
   ],
   "source": [
    "my_list = [\"A\", \"B\", \"C\", \"D\"]\n",
    "d = my_list.pop()\n",
    "print(d, type(d))\n",
    "my_list"
   ]
  },
  {
   "cell_type": "markdown",
   "metadata": {},
   "source": [
    "\n",
    "##### .remove()"
   ]
  },
  {
   "cell_type": "code",
   "execution_count": 141,
   "metadata": {},
   "outputs": [
    {
     "name": "stdout",
     "output_type": "stream",
     "text": [
      "['A', 'C', 'D']\n"
     ]
    }
   ],
   "source": [
    "my_list = [\"A\", \"B\", \"C\", \"D\"]\n",
    "my_list.remove(\"B\")\n",
    "print(my_list)\n",
    "\n"
   ]
  },
  {
   "cell_type": "markdown",
   "metadata": {},
   "source": [
    "##### del()"
   ]
  },
  {
   "cell_type": "code",
   "execution_count": 142,
   "metadata": {},
   "outputs": [
    {
     "name": "stdout",
     "output_type": "stream",
     "text": [
      "Max\n",
      "Anu\n",
      "Anu\n",
      "Cindy\n",
      "Kathy\n",
      "Brad\n"
     ]
    },
    {
     "ename": "IndexError",
     "evalue": "list index out of range",
     "output_type": "error",
     "traceback": [
      "\u001b[1;31m---------------------------------------------------------------------------\u001b[0m",
      "\u001b[1;31mIndexError\u001b[0m                                Traceback (most recent call last)",
      "\u001b[1;32m<ipython-input-142-303ec962580e>\u001b[0m in \u001b[0;36m<module>\u001b[1;34m\u001b[0m\n\u001b[0;32m      8\u001b[0m     \u001b[1;32mif\u001b[0m \u001b[0mi\u001b[0m\u001b[1;33m==\u001b[0m\u001b[1;36m2\u001b[0m\u001b[1;33m:\u001b[0m\u001b[1;33m\u001b[0m\u001b[1;33m\u001b[0m\u001b[0m\n\u001b[0;32m      9\u001b[0m         \u001b[1;32mdel\u001b[0m \u001b[0mnames\u001b[0m\u001b[1;33m[\u001b[0m\u001b[0mi\u001b[0m\u001b[1;33m]\u001b[0m\u001b[1;33m\u001b[0m\u001b[1;33m\u001b[0m\u001b[0m\n\u001b[1;32m---> 10\u001b[1;33m     \u001b[0mprint\u001b[0m\u001b[1;33m(\u001b[0m\u001b[0mnames\u001b[0m\u001b[1;33m[\u001b[0m\u001b[0mi\u001b[0m\u001b[1;33m]\u001b[0m\u001b[1;33m)\u001b[0m\u001b[1;33m\u001b[0m\u001b[1;33m\u001b[0m\u001b[0m\n\u001b[0m",
      "\u001b[1;31mIndexError\u001b[0m: list index out of range"
     ]
    }
   ],
   "source": [
    "# remove by index\n",
    "# be careful using in a loop!!! you will get indexing errors\n",
    "my_list = [\"A\", \"B\", \"C\", \"D\"]\n",
    "del my_list[2]\n",
    "my_list\n",
    "\n",
    "for i in range(len(names)):    # becomes out of range so it won't work\n",
    "    if i==2:\n",
    "        del names[i]\n",
    "    print(names[i])"
   ]
  },
  {
   "cell_type": "markdown",
   "metadata": {},
   "source": [
    "##### Concatenating Two Lists"
   ]
  },
  {
   "cell_type": "code",
   "execution_count": 18,
   "metadata": {},
   "outputs": [],
   "source": [
    "l_2 = [0,1,2]\n",
    "l_3 = [3,4,5]\n",
    "\n",
    "large_list = l_2 + l_3\n",
    "print(large_list)\n",
    "\n",
    "l_2.extend(l_3)\n",
    "l_2\n"
   ]
  },
  {
   "cell_type": "markdown",
   "metadata": {},
   "source": [
    "##### Lists Within Lists"
   ]
  },
  {
   "cell_type": "code",
   "execution_count": 146,
   "metadata": {},
   "outputs": [],
   "source": [
    "my_nested_list = [\"Max\", \"Sally\", \"Jason\", [1,2,3], \"Jessica\"]\n",
    "\n",
    "my_nessted_list[3][1]"
   ]
  },
  {
   "cell_type": "markdown",
   "metadata": {},
   "source": [
    "##### Looping Through Lists"
   ]
  },
  {
   "cell_type": "code",
   "execution_count": 20,
   "metadata": {},
   "outputs": [],
   "source": [
    "### WAYYY ABOVE\n"
   ]
  },
  {
   "cell_type": "markdown",
   "metadata": {},
   "source": [
    "## Exercise #1 <br>\n",
    "<p>Cube Number Test... Print out all cubed numbers up to the total value 1000, so if the cubed number is over 1000 break the loop.</p>"
   ]
  },
  {
   "cell_type": "code",
   "execution_count": 3,
   "metadata": {
    "scrolled": false
   },
   "outputs": [
    {
     "name": "stdout",
     "output_type": "stream",
     "text": [
      "0  equals  0\n",
      "1  equals  1\n",
      "2  equals  4\n",
      "3  equals  9\n",
      "4  equals  16\n",
      "5  equals  25\n",
      "6  equals  36\n",
      "7  equals  49\n",
      "8  equals  64\n",
      "9  equals  81\n",
      "10  equals  100\n",
      "11  equals  121\n",
      "12  equals  144\n",
      "13  equals  169\n",
      "14  equals  196\n",
      "15  equals  225\n",
      "16  equals  256\n",
      "17  equals  289\n",
      "18  equals  324\n",
      "19  equals  361\n",
      "20  equals  400\n",
      "21  equals  441\n",
      "22  equals  484\n",
      "23  equals  529\n",
      "24  equals  576\n",
      "25  equals  625\n",
      "26  equals  676\n",
      "27  equals  729\n",
      "28  equals  784\n",
      "29  equals  841\n",
      "30  equals  900\n",
      "31  equals  961\n"
     ]
    }
   ],
   "source": [
    "list_num = [i for i in range(1000)]\n",
    "for i in list_num:\n",
    "    if i**2 < 1000:\n",
    "        print(i, \" equals \", (i**2))\n",
    "\n"
   ]
  },
  {
   "cell_type": "markdown",
   "metadata": {},
   "source": [
    "## Exercise #2 <br>\n",
    "<p>Get first prime numbers up to 100</p>"
   ]
  },
  {
   "cell_type": "code",
   "execution_count": 4,
   "metadata": {},
   "outputs": [
    {
     "name": "stdout",
     "output_type": "stream",
     "text": [
      "2\n",
      "3\n",
      "5\n",
      "7\n",
      "11\n",
      "13\n",
      "17\n",
      "19\n",
      "23\n",
      "29\n",
      "31\n",
      "37\n",
      "41\n",
      "43\n",
      "47\n",
      "53\n",
      "59\n",
      "61\n",
      "67\n",
      "71\n",
      "73\n",
      "79\n",
      "83\n",
      "89\n",
      "97\n",
      "None\n"
     ]
    }
   ],
   "source": [
    "#list_num = [i for i in range(100)]\n",
    "\n",
    "#for i in list_num:\n",
    "#    if i > 1:\n",
    "#        for i in range(2, i):\n",
    "#            if i % i ==0:\n",
    "#                break\n",
    "#        else:\n",
    "#            print(i)\n",
    "\n",
    "\n",
    "def find_primes(input_range):\n",
    "    for num in range(input_range):\n",
    "        if num > 1:\n",
    "            for i in range(2, num):\n",
    "                if num % i == 0:\n",
    "                    break\n",
    "            else:\n",
    "                print(num)\n",
    "                \n",
    "print(find_primes(100))"
   ]
  },
  {
   "cell_type": "markdown",
   "metadata": {},
   "source": [
    "# Exercise 3 <br>\n",
    "<p>Take in a users input for their age, if they are younger than 18 print kids, if they're 18 to 65 print adults, else print seniors</p>"
   ]
  },
  {
   "cell_type": "code",
   "execution_count": 154,
   "metadata": {},
   "outputs": [
    {
     "name": "stdout",
     "output_type": "stream",
     "text": [
      "What is your age? 66\n",
      "seniors\n"
     ]
    }
   ],
   "source": [
    "age = input(\"What is your age? \")\n",
    "age = int(age)\n",
    "\n",
    "if age < 18:\n",
    "    print(\"kids\")\n",
    "elif age >=18 and age <= 65:\n",
    "    print(\"adults\")\n",
    "else:\n",
    "    print(\"seniors\")"
   ]
  },
  {
   "cell_type": "code",
   "execution_count": null,
   "metadata": {},
   "outputs": [],
   "source": []
  },
  {
   "cell_type": "code",
   "execution_count": null,
   "metadata": {},
   "outputs": [],
   "source": []
  }
 ],
 "metadata": {
  "kernelspec": {
   "display_name": "Python 3",
   "language": "python",
   "name": "python3"
  },
  "language_info": {
   "codemirror_mode": {
    "name": "ipython",
    "version": 3
   },
   "file_extension": ".py",
   "mimetype": "text/x-python",
   "name": "python",
   "nbconvert_exporter": "python",
   "pygments_lexer": "ipython3",
   "version": "3.8.8"
  }
 },
 "nbformat": 4,
 "nbformat_minor": 2
}
